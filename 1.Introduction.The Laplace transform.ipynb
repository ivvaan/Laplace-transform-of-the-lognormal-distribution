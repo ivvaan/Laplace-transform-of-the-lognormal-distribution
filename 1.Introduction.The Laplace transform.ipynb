{
 "cells": [
  {
   "cell_type": "markdown",
   "id": "358ea12a",
   "metadata": {},
   "source": [
    "The [Laplace transform of a continuous random variable](https://en.wikipedia.org/wiki/Laplace_transform#Probability_theory) $X$ with probability density function (PDF) $f_X$ \n",
    "is given by:\n",
    "    $$\\mathcal{L}_X(u)=\\operatorname{E}\\! \\left[e^{-Xu} \\right] = \\int_{-\\infty}^{\\infty} f_X(x)e^{-x\\,u}\\,dx $$\n",
    "where $\\operatorname{E}$  represents the expectation.\n",
    "\n",
    "The purpose of this work is to explore the Laplace transform of a [lognormal distributed random variable](https://en.wikipedia.org/wiki/Log-normal_distribution). For the lognormal distributed random variable $X \\sim LogN(\\mu,v)$ we have $Y=\\log(X) \\sim N(\\mu,v)$, where $\\mu$ and $v$ are the expectation and the variance of $\\log(X)$ and $N$ denote a normal distribution. So we use second parametrization from https://en.wikipedia.org/wiki/Log-normal_distribution#Alternative_parameterizations . For the $X$ PDF in this parametrization we have: \n",
    "$$f_{X}(x,\\mu,v)= \\frac {1} {\\sqrt{2\\pi\\,v}} \\frac{1}{x} \\exp\\left( -\\frac{(\\ln x-\\mu)^2}{2 v} \\right) .$$\n",
    "\n",
    "Finally\n",
    "$$\\mathcal{L}(u,\\mu,v)=\\frac {1} {\\sqrt{2\\pi\\,v}} \\int_0^{\\infty}  \\frac{1}{x}\\exp(-x\\,u) \\exp\\left(-\\frac{(\\ln x-\\mu)^2}{2 v}\\right) dx$$\n",
    "\n",
    "There is no closed form formula for the above integral. However, we can use direct numerical integration, but first we substitute variables to simplify the calculations. Let's $Y=\\ln(X)$ and $x=\\exp(y)$\n",
    "\n",
    "$$\\mathcal{L}(u,\\mu,v)=\\operatorname{E}\\! \\left[e^{-e^Yu} \\right]=\\frac {1} {\\sqrt{2\\pi\\,v}} \\int_{-\\infty}^{\\infty} \\exp\\left(-e^yu-\\frac{(y-\\mu)^2}{2 v}\\right) dy$$\n",
    "$$=\\frac {1} {\\sqrt{2\\pi}} \\int_{-\\infty}^{\\infty} \\exp\\left(-e^{z\\sigma+\\mu}u-\\frac{z^2}{2}\\right) dz$$\n",
    "where $\\sigma=\\sqrt{v}$, $z=(y-\\mu)/\\sigma$."
   ]
  },
  {
   "cell_type": "code",
   "execution_count": 1,
   "id": "f96ba9ad",
   "metadata": {},
   "outputs": [],
   "source": [
    "import numpy as np\n",
    "import matplotlib.pyplot as plt\n",
    "import scipy.special as scsp\n",
    "from scipy.special import lambertw\n",
    "from scipy.integrate import quad\n",
    "from IPython.display import display, Math\n",
    "plt.style.use('seaborn-v0_8-darkgrid')\n"
   ]
  },
  {
   "cell_type": "code",
   "execution_count": 2,
   "id": "6f098e2a",
   "metadata": {},
   "outputs": [],
   "source": [
    "def LaplTrLNDirect(u,mu,v):\n",
    "    max_exp=744.0 # np.exp(-max_exp) - minimal double value to calculate without overflow\n",
    "    def LLN(t): #calculates the Laplace transform for scalar t\n",
    "        if t==0:\n",
    "            return np.sqrt(2.0*np.pi*v)\n",
    "        \n",
    "        sigma=np.sqrt(v)\n",
    "        def F(z): #integrand\n",
    "            s=np.exp(z*sigma+mu)*t+0.5*z**2\n",
    "            return np.exp(-s)\n",
    "\n",
    "        lb=-np.sqrt(2.0*max_exp) #low integration bound\n",
    "        # for smaller values integrand will be calculated as zero\n",
    "        # anyway due to overflow  \n",
    "        ub=min((np.log(max_exp/t)-mu)/sigma,-lb) #upper integration bound\n",
    "        # for bigger values integrand will be calculated as zero\n",
    "        # anyway due to overflow\n",
    "        if lb>=ub:\n",
    "            return 0.0\n",
    "        return quad(F,lb,ub,epsabs=1.0e-9, epsrel=1.0e-9)[0] #integration\n",
    "    m=1.0/np.sqrt(2.0*np.pi)\n",
    "    return m*np.vectorize(LLN,otypes=[float])(u)\n"
   ]
  },
  {
   "cell_type": "markdown",
   "id": "8c1586e9",
   "metadata": {},
   "source": [
    "We can make it faster. Let's make one more substitution in the last integral $z=\\sqrt{2}\\sinh(\\pi/2\\sinh(t))$.\n",
    "As a result, for the same presition, we can use fewer evently spaced integration points. For more detailed explanation see:\n",
    "\n",
    "Takahasi, H. and Mori, M. (1974). Double exponential formulas for numerical integration. Publ. RIMS Kyoto Univ, 9:721-741.\n"
   ]
  },
  {
   "cell_type": "code",
   "execution_count": 3,
   "id": "87cb74fe",
   "metadata": {},
   "outputs": [],
   "source": [
    "int_step=5.5/512.0\n",
    "t_nodes=np.arange(-150.5*int_step,151.5*int_step,int_step)[:,None]\n",
    "sinh_t=0.5*np.pi*np.sinh(t_nodes)\n",
    "sinhsinh_t=np.sinh(sinh_t)\n",
    "sinhsinh_t2=sinhsinh_t**2\n",
    "dt_mult=0.5*np.pi*(int_step/np.sqrt(np.pi))*np.cosh(sinh_t)*np.cosh(t_nodes)\n",
    "max_exp=int(np.finfo(np.float64).maxexp*np.log(2.))            \n",
    "\n",
    "def LaplTrLNFastD(u,mu,v):\n",
    "    '''\n",
    "    fast version of direct integration\n",
    "    '''\n",
    "        #np.exp(max_exp) - maximal double value to calculate without overflow\n",
    "    u=np.atleast_1d(u)[None,:]\n",
    "    exp_arg=np.sqrt(2.0*v)*sinhsinh_t+mu\n",
    "    #s=np.exp(np.where(exp_arg<max_exp,exp_arg,max_exp))*u+sinhsinh_t2\n",
    "    s=np.exp(exp_arg)*u+sinhsinh_t2\n",
    "    res=np.sum(np.exp(-s)*dt_mult,axis=0)\n",
    "    if len(res)==1:return res[0]\n",
    "    return res"
   ]
  },
  {
   "cell_type": "code",
   "execution_count": 4,
   "id": "b67d81ee",
   "metadata": {
    "scrolled": true
   },
   "outputs": [
    {
     "data": {
      "text/plain": [
       "0.0"
      ]
     },
     "execution_count": 4,
     "metadata": {},
     "output_type": "execute_result"
    }
   ],
   "source": [
    "LaplTrLNDirect(1,0,1)-LaplTrLNFastD(1,0,1)"
   ]
  },
  {
   "cell_type": "markdown",
   "id": "bc93aa32",
   "metadata": {},
   "source": [
    "Also we can do following trick:\n",
    "$$\\mathcal{L}(u,\\mu,v)=\\frac {1} {\\sqrt{2\\pi}} \\int_{-\\infty}^{\\infty} \\exp\\left(-e^{z\\sigma+\\mu}u-\\frac{z^2}{2}\\right)= dz=\\frac {1} {\\sqrt{2\\pi}} \\int_{-\\infty}^{\\infty} \\exp\\left(-e^{z\\sigma}(e^{\\mu}u)-\\frac{z^2}{2}\\right)=\\mathcal{L}(e^{\\mu}u,0,v).$$\n",
    "So it is suffiecient to consider only the case where $\\mu=0$, and we will explore the function $\\mathcal{L}_v(u)=\\mathcal{L}(u,0,v)$."
   ]
  },
  {
   "cell_type": "code",
   "execution_count": 5,
   "id": "7abb798c",
   "metadata": {},
   "outputs": [],
   "source": [
    "def LaplTrLNFastD(u,v):\n",
    "    '''\n",
    "    fast version of direct integration\n",
    "    '''\n",
    "    s=np.exp(np.sqrt(2.0*v)*sinhsinh_t)*np.atleast_1d(u)[None,:]+sinhsinh_t2\n",
    "    res=np.sum(np.exp(-s)*dt_mult,axis=0)\n",
    "    if len(res)==1:return res[0]\n",
    "    return res"
   ]
  },
  {
   "cell_type": "code",
   "execution_count": 6,
   "id": "1a0132b8",
   "metadata": {},
   "outputs": [
    {
     "data": {
      "text/plain": [
       "array([-3.33066907e-16, -4.16333634e-17,  4.33680869e-19])"
      ]
     },
     "execution_count": 6,
     "metadata": {},
     "output_type": "execute_result"
    }
   ],
   "source": [
    "u=np.array([0.1,2,10])\n",
    "mu,v=1,1\n",
    "LaplTrLNDirect(u,mu,v)-LaplTrLNFastD(u*np.exp(mu),v)"
   ]
  },
  {
   "cell_type": "markdown",
   "id": "637b8efe",
   "metadata": {},
   "source": [
    "Our goal is to get some method to approximate the Laplace transform of the lognormal distribution. In the literature there are several attempt based on series expansion, but all of them computationally expensive.\n",
    "\n",
    "In\n",
    "[S. Asmussen, J.L. Jensen, L. Rojas-Nandayapa (2016). \"On the Laplace transform of the Lognormal distribution\", Methodology and Computing in Applied Probability 18 (2), 441-458](https://link.springer.com/article/10.1007/s11009-014-9430-7)\n",
    "there is fast approximation \n",
    "\n",
    "$$\\mathcal{L}^*_v(u)=\\frac{\\exp\\left(-\\frac{W(\\theta)(W(\\theta)+ 2)}{2v} \\right)}{\\sqrt{1+W(\\theta)}}$$\n",
    "where\n",
    "$$\\theta=uv$$\n",
    "\n",
    "and $W$ is the Lambert W function."
   ]
  },
  {
   "cell_type": "code",
   "execution_count": 7,
   "id": "cb4905d3",
   "metadata": {},
   "outputs": [],
   "source": [
    "def LaplTrLNApprox(u,v):\n",
    "    theta=u*v\n",
    "    W=np.real(scsp.lambertw(theta))\n",
    "    return np.exp(-W*(W+2)/(2*v))/np.sqrt(1+W)"
   ]
  }
 ],
 "metadata": {
  "kernelspec": {
   "display_name": "Python 3 (ipykernel)",
   "language": "python",
   "name": "python3"
  },
  "language_info": {
   "codemirror_mode": {
    "name": "ipython",
    "version": 3
   },
   "file_extension": ".py",
   "mimetype": "text/x-python",
   "name": "python",
   "nbconvert_exporter": "python",
   "pygments_lexer": "ipython3",
   "version": "3.8.18"
  }
 },
 "nbformat": 4,
 "nbformat_minor": 5
}
