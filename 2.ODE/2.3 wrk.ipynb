{
 "cells": [
  {
   "cell_type": "code",
   "execution_count": 1,
   "id": "d07e6941-126b-406a-aee7-d3b36a534a37",
   "metadata": {
    "tags": []
   },
   "outputs": [],
   "source": [
    "import numpy as np\n",
    "import matplotlib.pyplot as plt\n",
    "import scipy.special as scsp\n",
    "from scipy.special import lambertw\n",
    "from scipy.integrate import odeint\n",
    "from IPython.display import display, Math\n",
    "import sympy as sp\n",
    "plt.style.use('seaborn-v0_8-darkgrid')"
   ]
  },
  {
   "cell_type": "code",
   "execution_count": 3,
   "id": "a6492c9d-bac2-4dda-a6c8-639f4d671df7",
   "metadata": {
    "tags": []
   },
   "outputs": [],
   "source": [
    "%run -i main_funcs.py"
   ]
  },
  {
   "cell_type": "code",
   "execution_count": null,
   "id": "bbac574f-8233-45d2-8576-59fd9b9ffafc",
   "metadata": {},
   "outputs": [],
   "source": []
  },
  {
   "cell_type": "code",
   "execution_count": null,
   "id": "42f3c612-42c2-4d9e-a186-584afa006f81",
   "metadata": {},
   "outputs": [],
   "source": []
  },
  {
   "cell_type": "code",
   "execution_count": null,
   "id": "b58a0512-7ec7-40bb-b9a5-e3aae562fb3f",
   "metadata": {},
   "outputs": [],
   "source": []
  },
  {
   "cell_type": "code",
   "execution_count": null,
   "id": "6d1ae9ba-7293-451c-8149-b5043469219f",
   "metadata": {},
   "outputs": [],
   "source": []
  },
  {
   "cell_type": "code",
   "execution_count": null,
   "id": "0c989fde-32dc-4208-839e-6ed30e80e568",
   "metadata": {},
   "outputs": [],
   "source": []
  }
 ],
 "metadata": {
  "kernelspec": {
   "display_name": "Python 3 (ipykernel)",
   "language": "python",
   "name": "python3"
  },
  "language_info": {
   "codemirror_mode": {
    "name": "ipython",
    "version": 3
   },
   "file_extension": ".py",
   "mimetype": "text/x-python",
   "name": "python",
   "nbconvert_exporter": "python",
   "pygments_lexer": "ipython3",
   "version": "3.11.3"
  }
 },
 "nbformat": 4,
 "nbformat_minor": 5
}
