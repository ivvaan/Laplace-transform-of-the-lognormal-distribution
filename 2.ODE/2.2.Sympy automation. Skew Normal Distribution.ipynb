{
 "cells": [
  {
   "cell_type": "code",
   "execution_count": 36,
   "id": "f96ba9ad",
   "metadata": {},
   "outputs": [],
   "source": [
    "import numpy as np\n",
    "import matplotlib.pyplot as plt\n",
    "import scipy.special as scsp\n",
    "from scipy.special import lambertw\n",
    "from scipy.integrate import odeint\n",
    "from IPython.display import display, Math\n",
    "plt.style.use('seaborn-v0_8-darkgrid')\n"
   ]
  },
  {
   "cell_type": "code",
   "execution_count": 37,
   "id": "87cb74fe",
   "metadata": {},
   "outputs": [],
   "source": [
    "#basic functions from introduction\n",
    "int_step=5.5/512.0\n",
    "t_nodes=np.arange(-150.5*int_step,151.5*int_step,int_step)[:,None]\n",
    "sinh_t=0.5*np.pi*np.sinh(t_nodes)\n",
    "sinhsinh_t=np.sinh(sinh_t)\n",
    "sinhsinh_t2=sinhsinh_t**2\n",
    "dt_mult=0.5*np.pi*(int_step/np.sqrt(np.pi))*np.cosh(sinh_t)*np.cosh(t_nodes)\n",
    "max_exp=int(np.finfo(np.float64).maxexp*np.log(2.))            \n",
    "\n",
    "def LaplTrLNFastD(u,v):#direct integration\n",
    "    s=np.exp(np.sqrt(2.0*v)*sinhsinh_t)*np.atleast_1d(u)[None,:]+sinhsinh_t2\n",
    "    res=np.sum(np.exp(-s)*dt_mult,axis=0)\n",
    "    return res\n",
    "\n",
    "def LaplTrLNODE2(u,v0):\n",
    "    V0=1.0/v0\n",
    "    def ode(V,t):return V0*np.exp(0.5/V)/V\n",
    "    y=odeint(ode,V0,u).T\n",
    "    return np.exp(V0-y[0])"
   ]
  },
  {
   "cell_type": "markdown",
   "id": "d69796d9",
   "metadata": {},
   "source": [
    "Normal distribution has two parameters. Let's take some known distribution with three parameters and see what happens, for example [skew normal distribution](https://en.wikipedia.org/wiki/Skew_normal_distribution). Yet, we need cumbersome math calculations to get work done. To move forward, it needs to automate the calculations.\n",
    "\n",
    "We already have equations for the differential of any raw moment of $Y$ \n",
    "$$dm_i=\\left(M(t)m_i(t)-{}^i\\!M(t)\\right)S(t)dt;$$\n",
    " now we rewrite it for $du$\n",
    "$$dm_i=\\left(M(t)m_i(t)-{}^i\\!M(t)\\right)S(t)\\frac{dt}{du}du =\\left(M(t)m_i(t)-{}^i\\!M(t)\\right)du,$$\n",
    "we use  (15) $S\\frac{dt}{du}=1$.\n",
    "\n",
    "Sometimes it is usefull to have equations for central moment. By the defenition\n",
    "$$c_i=E[(Y-m_1)^i]=\\sum_{k=0}^n(-1)^k{n \\choose k}E[Y^{i-k}]m_1^k=\\sum_{k=0}^n(-1)^k{n \\choose k}m_{i-k}m_1^k.$$\n",
    "\n",
    "We need to find $dc_i$.\n",
    "$$c_i(u+du)=\\sum_{k=0}^n(-1)^k{n \\choose k}(m_{i-k}+dm_{i-k})(m_1+dm_1)^k$$\n",
    "To find $dc_i$, it is sufficient to expand the last expression and take the term with $du$."
   ]
  },
  {
   "cell_type": "code",
   "execution_count": 38,
   "id": "c14d444d",
   "metadata": {},
   "outputs": [],
   "source": [
    "import sympy as sp\n",
    "sp.init_printing()\n",
    "μ,ξ,w,d,k,t,x,y,p,m,v,q,r,s,z = sp.symbols('μ,ξ,w,d,k,t,x,y,p,m,v,q,r,s,z')\n",
    "normalMGF=sp.exp(z*μ + z**2*v/2)"
   ]
  },
  {
   "cell_type": "code",
   "execution_count": 39,
   "id": "5d465a31",
   "metadata": {},
   "outputs": [
    {
     "name": "stdout",
     "output_type": "stream",
     "text": [
      "MGF for normal distribution is\n"
     ]
    },
    {
     "data": {
      "image/png": "[encoded data removed]",
      "text/latex": [
       "$\\displaystyle e^{\\frac{v z^{2}}{2} + z μ}$"
      ],
      "text/plain": [
       "    2      \n",
       " v⋅z       \n",
       " ──── + z⋅μ\n",
       "  2        \n",
       "ℯ          "
      ]
     },
     "execution_count": 39,
     "metadata": {},
     "output_type": "execute_result"
    }
   ],
   "source": [
    "print('MGF for normal distribution is')\n",
    "normalMGF"
   ]
  },
  {
   "cell_type": "code",
   "execution_count": 40,
   "id": "a573eed8",
   "metadata": {},
   "outputs": [
    {
     "data": {
      "text/latex": [
       "$\\displaystyle \\mathcal{M}(z)=e^{\\frac{v z^{2}}{2} + z μ}$"
      ],
      "text/plain": [
       "<IPython.core.display.Math object>"
      ]
     },
     "execution_count": 40,
     "metadata": {},
     "output_type": "execute_result"
    }
   ],
   "source": [
    "def prepend_latex(letex_str,sympy_expr):\n",
    "    return Math(letex_str+sp.latex(sympy_expr))\n",
    "prepend_latex('\\mathcal{M}(z)=',normalMGF)"
   ]
  },
  {
   "cell_type": "markdown",
   "id": "196d2b70",
   "metadata": {},
   "source": [
    "### Monents"
   ]
  },
  {
   "cell_type": "code",
   "execution_count": 41,
   "id": "c615b7bf",
   "metadata": {},
   "outputs": [],
   "source": [
    "def RM(MGM,i): \n",
    "    '''\n",
    "    symbolic function returns i-th (start from 1) raw moment: E[Y^n]\n",
    "    MGM(z) - Moment-generating function\n",
    "    '''\n",
    "    return sp.diff(MGM,z,i).subs(z,0)"
   ]
  },
  {
   "cell_type": "code",
   "execution_count": 42,
   "id": "a174d5da",
   "metadata": {},
   "outputs": [
    {
     "name": "stdout",
     "output_type": "stream",
     "text": [
      "first and second raw moment for normal distribution is\n"
     ]
    },
    {
     "data": {
      "image/png": "[encoded data removed]",
      "text/latex": [
       "$\\displaystyle \\left[ μ, \\  v + μ^{2}\\right]$"
      ],
      "text/plain": [
       "⎡        2⎤\n",
       "⎣μ, v + μ ⎦"
      ]
     },
     "execution_count": 42,
     "metadata": {},
     "output_type": "execute_result"
    }
   ],
   "source": [
    "print('first and second raw moment for normal distribution is')\n",
    "[RM(normalMGF,1),RM(normalMGF,2)]"
   ]
  },
  {
   "cell_type": "code",
   "execution_count": 43,
   "id": "0aa55590",
   "metadata": {},
   "outputs": [],
   "source": [
    "def RMgenerator(MGF): \n",
    "    '''\n",
    "    returns symbolic function returning i-th (start from 1) \n",
    "        raw moment: E[Y^n]\n",
    "    MGF(z) - Moment-generating function\n",
    "    '''\n",
    "    return lambda i:sp.diff(MGF,z,i).subs(z,0)"
   ]
  },
  {
   "cell_type": "code",
   "execution_count": 44,
   "id": "9027ea2e",
   "metadata": {},
   "outputs": [
    {
     "name": "stdout",
     "output_type": "stream",
     "text": [
      "second and third raw moment for normal distribution is\n"
     ]
    },
    {
     "data": {
      "image/png": "[encoded data removed]",
      "text/latex": [
       "$\\displaystyle \\left[ v + μ^{2}, \\  μ \\left(3 v + μ^{2}\\right)\\right]$"
      ],
      "text/plain": [
       "⎡     2    ⎛       2⎞⎤\n",
       "⎣v + μ , μ⋅⎝3⋅v + μ ⎠⎦"
      ]
     },
     "execution_count": 44,
     "metadata": {},
     "output_type": "execute_result"
    }
   ],
   "source": [
    "normal_rm=RMgenerator(normalMGF)\n",
    "print('second and third raw moment for normal distribution is')\n",
    "[normal_rm(2),normal_rm(3)]"
   ]
  },
  {
   "cell_type": "code",
   "execution_count": 45,
   "id": "e04b2f8f",
   "metadata": {},
   "outputs": [],
   "source": [
    "def CM(rm,i): \n",
    "    '''\n",
    "    symbolic function returns i-th (start from 1) central moment: E[(Y-E[Y])^n]\n",
    "    if i==1 returns 1st raw moment (1st central moment always 0) \n",
    "    rm - raw moment generator\n",
    "    '''\n",
    "    if i==1: return rm(1)\n",
    "    x = sp.symbols('u_s')\n",
    "    expr=sp.expand((x-rm(1))**i)\n",
    "    for n in range(i,0,-1):\n",
    "        expr=expr.subs(x**n,rm(n))\n",
    "    return sp.simplify(expr)"
   ]
  },
  {
   "cell_type": "code",
   "execution_count": 46,
   "id": "d803ff60",
   "metadata": {},
   "outputs": [
    {
     "name": "stdout",
     "output_type": "stream",
     "text": [
      "third central moment expresson\n"
     ]
    },
    {
     "data": {
      "image/png": "[encoded data removed]",
      "text/latex": [
       "$\\displaystyle 2 m_{1}^{3} - 3 m_{1} m_{2} + m_{3}$"
      ],
      "text/plain": [
       "    3               \n",
       "2⋅m₁  - 3⋅m₁⋅m₂ + m₃"
      ]
     },
     "execution_count": 46,
     "metadata": {},
     "output_type": "execute_result"
    }
   ],
   "source": [
    "print('third central moment expresson')\n",
    "CM(lambda i:sp.symbols(f'm_{i}'),3)"
   ]
  },
  {
   "cell_type": "code",
   "execution_count": 47,
   "id": "c4f104b9",
   "metadata": {},
   "outputs": [
    {
     "name": "stdout",
     "output_type": "stream",
     "text": [
      "second and third central moment for normal distribution is\n"
     ]
    },
    {
     "data": {
      "image/png": "[encoded data removed]",
      "text/latex": [
       "$\\displaystyle \\left[ v, \\  0\\right]$"
      ],
      "text/plain": [
       "[v, 0]"
      ]
     },
     "execution_count": 47,
     "metadata": {},
     "output_type": "execute_result"
    }
   ],
   "source": [
    "print('second and third central moment for normal distribution is')\n",
    "[CM(normal_rm,2),CM(normal_rm,3)]"
   ]
  },
  {
   "cell_type": "code",
   "execution_count": 48,
   "id": "4a1e6dcd",
   "metadata": {},
   "outputs": [],
   "source": [
    "def CMgenerator(MGF): \n",
    "    return lambda i:CM(RMgenerator(MGF),i)"
   ]
  },
  {
   "cell_type": "code",
   "execution_count": 49,
   "id": "6340e87f",
   "metadata": {},
   "outputs": [
    {
     "name": "stdout",
     "output_type": "stream",
     "text": [
      "third and fourth central moment for normal distribution is\n"
     ]
    },
    {
     "data": {
      "image/png": "[encoded data removed]",
      "text/latex": [
       "$\\displaystyle \\left[ 0, \\  3 v^{2}\\right]$"
      ],
      "text/plain": [
       "⎡      2⎤\n",
       "⎣0, 3⋅v ⎦"
      ]
     },
     "execution_count": 49,
     "metadata": {},
     "output_type": "execute_result"
    }
   ],
   "source": [
    "normal_cm=CMgenerator(normalMGF)\n",
    "print('third and fourth central moment for normal distribution is')\n",
    "[normal_cm(3),normal_cm(4)]"
   ]
  },
  {
   "cell_type": "markdown",
   "id": "22a1685f",
   "metadata": {},
   "source": [
    "### Functions to calculate ${}^i\\!M_{Y}$"
   ]
  },
  {
   "cell_type": "code",
   "execution_count": 50,
   "id": "c5144440",
   "metadata": {},
   "outputs": [],
   "source": [
    "def EM(MGF,i): \n",
    "    '''\n",
    "    symbolic function returns i-th (start from 1) exp moment: E[e^Y*Y^i]\n",
    "    '''\n",
    "    return sp.diff(MGF,z,i).subs(z,1)\n",
    "\n",
    "def EMgenerator(MGF): \n",
    "    return lambda i:EM(MGF,i)"
   ]
  },
  {
   "cell_type": "markdown",
   "id": "f8ab272f",
   "metadata": {},
   "source": [
    "${}^0\\!M$ and ${}^1\\!M$ for normal distribution is"
   ]
  },
  {
   "cell_type": "code",
   "execution_count": 51,
   "id": "b79b5f19",
   "metadata": {
    "scrolled": true
   },
   "outputs": [
    {
     "data": {
      "image/png": "[encoded data removed]",
      "text/latex": [
       "$\\displaystyle \\left[ e^{\\frac{v}{2} + μ}, \\  \\left(v + μ\\right) e^{\\frac{v}{2} + μ}\\right]$"
      ],
      "text/plain": [
       "⎡ v               v    ⎤\n",
       "⎢ ─ + μ           ─ + μ⎥\n",
       "⎢ 2               2    ⎥\n",
       "⎣ℯ     , (v + μ)⋅ℯ     ⎦"
      ]
     },
     "execution_count": 51,
     "metadata": {},
     "output_type": "execute_result"
    }
   ],
   "source": [
    "[EM(normalMGF,0),EM(normalMGF,1)]"
   ]
  },
  {
   "cell_type": "markdown",
   "id": "e4f54711",
   "metadata": {},
   "source": [
    "${}^1\\!M$ and ${}^2\\!M$ for normal distribution is"
   ]
  },
  {
   "cell_type": "code",
   "execution_count": 52,
   "id": "61f6345b",
   "metadata": {},
   "outputs": [
    {
     "data": {
      "image/png": "[encoded data removed]",
      "text/latex": [
       "$\\displaystyle \\left[ \\left(v + μ\\right) e^{\\frac{v}{2} + μ}, \\  \\left(v + \\left(v + μ\\right)^{2}\\right) e^{\\frac{v}{2} + μ}\\right]$"
      ],
      "text/plain": [
       "⎡         v                      v    ⎤\n",
       "⎢         ─ + μ                  ─ + μ⎥\n",
       "⎢         2      ⎛           2⎞  2    ⎥\n",
       "⎣(v + μ)⋅ℯ     , ⎝v + (v + μ) ⎠⋅ℯ     ⎦"
      ]
     },
     "execution_count": 52,
     "metadata": {},
     "output_type": "execute_result"
    }
   ],
   "source": [
    "normal_em=EMgenerator(normalMGF)\n",
    "[normal_em(1),normal_em(2)]"
   ]
  },
  {
   "cell_type": "markdown",
   "id": "511982d5",
   "metadata": {},
   "source": [
    "### Derivatives\n",
    "Now its time for $dm_i/du$."
   ]
  },
  {
   "cell_type": "code",
   "execution_count": 53,
   "id": "2218be05",
   "metadata": {},
   "outputs": [],
   "source": [
    "def DRM(MGF,i):\n",
    "    '''\n",
    "    symbolic function returns differential of i-th (start from 1) raw moment\n",
    "     '''\n",
    "    if i==0:\n",
    "        return -EM(MGF,0)\n",
    "    return sp.simplify(RM(MGF,i)*EM(MGF,0)-EM(MGF,i))\n",
    "\n",
    "def DRMgenerator(MGF):\n",
    "    return lambda i:DRM(MGF,i)"
   ]
  },
  {
   "cell_type": "markdown",
   "id": "0639ce78",
   "metadata": {},
   "source": [
    "$\\frac{dm_1}{du}$ and $\\frac{dm_2}{du}$ for normal distribution is"
   ]
  },
  {
   "cell_type": "code",
   "execution_count": 54,
   "id": "c30d4abb",
   "metadata": {},
   "outputs": [
    {
     "data": {
      "image/png": "[encoded data removed]",
      "text/latex": [
       "$\\displaystyle \\left[ - v e^{\\frac{v}{2} + μ}, \\  \\left(μ^{2} - \\left(v + μ\\right)^{2}\\right) e^{\\frac{v}{2} + μ}\\right]$"
      ],
      "text/plain": [
       "⎡    v                       v    ⎤\n",
       "⎢    ─ + μ                   ─ + μ⎥\n",
       "⎢    2      ⎛ 2          2⎞  2    ⎥\n",
       "⎣-v⋅ℯ     , ⎝μ  - (v + μ) ⎠⋅ℯ     ⎦"
      ]
     },
     "execution_count": 54,
     "metadata": {},
     "output_type": "execute_result"
    }
   ],
   "source": [
    "[DRM(normalMGF,1),DRM(normalMGF,2)]"
   ]
  },
  {
   "cell_type": "markdown",
   "id": "4df7dd4c",
   "metadata": {},
   "source": [
    "As mentioned above to get $dc_i/du$ we need the series for $m_i(U+dU)$ first"
   ]
  },
  {
   "cell_type": "code",
   "execution_count": 55,
   "id": "03aee5e6",
   "metadata": {},
   "outputs": [],
   "source": [
    "dU=sp.symbols('dU')\n",
    "def RMSeries(MGF,i):\n",
    "    '''\n",
    "    series dm_i(U+dU) up to first term \n",
    "    '''\n",
    "    return sp.expand(RM(MGF,i)+DRM(MGF,i)*dU)\n",
    "\n",
    "def RMSgenerator(MGF):# series dS(t) up to first term \n",
    "    return lambda i:RMSeries(MGF,i)"
   ]
  },
  {
   "cell_type": "markdown",
   "id": "deec956c",
   "metadata": {},
   "source": [
    "raw moments $m_1(U+dU)$ and $m_2(U+dU)$  for normal distribution is"
   ]
  },
  {
   "cell_type": "code",
   "execution_count": 56,
   "id": "923d858a",
   "metadata": {},
   "outputs": [
    {
     "data": {
      "image/png": "[encoded data removed]",
      "text/latex": [
       "$\\displaystyle \\left[ - dU v e^{\\frac{v}{2}} e^{μ} + μ, \\  - dU v^{2} e^{\\frac{v}{2}} e^{μ} - 2 dU v μ e^{\\frac{v}{2}} e^{μ} + v + μ^{2}\\right]$"
      ],
      "text/plain": [
       "⎡        v                  v                v            ⎤\n",
       "⎢        ─                  ─                ─            ⎥\n",
       "⎢        2  μ            2  2  μ             2  μ        2⎥\n",
       "⎣- dU⋅v⋅ℯ ⋅ℯ  + μ, - dU⋅v ⋅ℯ ⋅ℯ  - 2⋅dU⋅v⋅μ⋅ℯ ⋅ℯ  + v + μ ⎦"
      ]
     },
     "execution_count": 56,
     "metadata": {},
     "output_type": "execute_result"
    }
   ],
   "source": [
    "[RMSeries(normalMGF,1),RMSeries(normalMGF,2)]"
   ]
  },
  {
   "cell_type": "markdown",
   "id": "cafe45b1",
   "metadata": {},
   "source": [
    "Next, we can get $dc_i(U+dU)$ by using CM function."
   ]
  },
  {
   "cell_type": "code",
   "execution_count": 57,
   "id": "ae11aa11",
   "metadata": {},
   "outputs": [
    {
     "data": {
      "text/latex": [
       "$\\displaystyle c_2(U+dU)=v \\left(- dU^{2} v e^{v + 2 μ} - dU v e^{\\frac{v}{2} + μ} + 1\\right)$"
      ],
      "text/plain": [
       "<IPython.core.display.Math object>"
      ]
     },
     "metadata": {},
     "output_type": "display_data"
    },
    {
     "data": {
      "text/latex": [
       "$\\displaystyle c_3(U+dU)=dU v^{3} \\left(- 2 dU^{2} e^{\\frac{3 v}{2} + 2 μ} - 3 dU e^{v + μ} - e^{\\frac{v}{2}}\\right) e^{μ}$"
      ],
      "text/plain": [
       "<IPython.core.display.Math object>"
      ]
     },
     "metadata": {},
     "output_type": "display_data"
    }
   ],
   "source": [
    "normal_rms=RMSgenerator(normalMGF)\n",
    "display(prepend_latex('c_2(U+dU)=',CM(normal_rms,2)))\n",
    "display(prepend_latex('c_3(U+dU)=',CM(normal_rms,3)))\n"
   ]
  },
  {
   "cell_type": "markdown",
   "id": "9b4cf437",
   "metadata": {},
   "source": [
    "Functions to find $dc_i/du$"
   ]
  },
  {
   "cell_type": "code",
   "execution_count": 58,
   "id": "0735feb8",
   "metadata": {},
   "outputs": [],
   "source": [
    "def DCM(MGF,i):\n",
    "    '''\n",
    "    symbolic function returns differential of i-th central moment\n",
    "    '''\n",
    "    if i==0:\n",
    "        return -EM(MGF,0)  \n",
    "    \n",
    "    expr=CM(RMSgenerator(MGF),i)\n",
    "    return sp.simplify(sp.diff(expr,dU,1).subs(dU,0))\n",
    "\n",
    "def DCMgenerator(MGF):\n",
    "    return lambda i:DCM(func,i)"
   ]
  },
  {
   "cell_type": "code",
   "execution_count": 59,
   "id": "7e5254ca",
   "metadata": {},
   "outputs": [
    {
     "name": "stdout",
     "output_type": "stream",
     "text": [
      "The right side for the normal distribution is\n"
     ]
    },
    {
     "data": {
      "text/latex": [
       "$\\displaystyle \\left[\\begin{matrix}- e^{\\frac{v}{2} + μ}\\\\- v e^{\\frac{v}{2} + μ}\\\\- v^{2} e^{\\frac{v}{2} + μ}\\end{matrix}\\right]$"
      ],
      "text/plain": [
       "⎡   v      ⎤\n",
       "⎢   ─ + μ  ⎥\n",
       "⎢   2      ⎥\n",
       "⎢ -ℯ       ⎥\n",
       "⎢          ⎥\n",
       "⎢    v     ⎥\n",
       "⎢    ─ + μ ⎥\n",
       "⎢    2     ⎥\n",
       "⎢-v⋅ℯ      ⎥\n",
       "⎢          ⎥\n",
       "⎢     v    ⎥\n",
       "⎢     ─ + μ⎥\n",
       "⎢  2  2    ⎥\n",
       "⎣-v ⋅ℯ     ⎦"
      ]
     },
     "execution_count": 59,
     "metadata": {},
     "output_type": "execute_result"
    }
   ],
   "source": [
    "print('The right side for the normal distribution is')\n",
    "sp.Matrix([DCM(normalMGF,0),DCM(normalMGF,1),DCM(normalMGF,2)])"
   ]
  },
  {
   "cell_type": "markdown",
   "id": "930088c7",
   "metadata": {},
   "source": [
    "So for the normal distribution we get exacltly (17) as expected. For the normal distribution it is convinient to use second central moment dynamics. Still there is a possibility to make approximate equations using raw moments only. In this case we need to infer parameters $\\nu,v$ from the moments first.\n",
    "\n",
    "Once again"
   ]
  },
  {
   "cell_type": "code",
   "execution_count": 60,
   "id": "858fe873",
   "metadata": {},
   "outputs": [
    {
     "name": "stdout",
     "output_type": "stream",
     "text": [
      "first and second raw moment for normal distribution is\n"
     ]
    },
    {
     "data": {
      "image/png": "[encoded data removed]",
      "text/latex": [
       "$\\displaystyle \\left[ μ, \\  v + μ^{2}\\right]$"
      ],
      "text/plain": [
       "⎡        2⎤\n",
       "⎣μ, v + μ ⎦"
      ]
     },
     "execution_count": 60,
     "metadata": {},
     "output_type": "execute_result"
    }
   ],
   "source": [
    "print('first and second raw moment for normal distribution is')\n",
    "[RM(normalMGF,1),RM(normalMGF,2)]"
   ]
  },
  {
   "cell_type": "markdown",
   "id": "ac22caef",
   "metadata": {},
   "source": [
    "It follows: $\\mu=m_1$ and $v=m_2-m_1^2$. The moments dynamic is given by right side:"
   ]
  },
  {
   "cell_type": "code",
   "execution_count": 61,
   "id": "f3ee2648",
   "metadata": {},
   "outputs": [
    {
     "data": {
      "text/latex": [
       "$\\displaystyle \\left[\\begin{matrix}- e^{\\frac{v}{2} + μ}\\\\- v e^{\\frac{v}{2} + μ}\\\\\\left(μ^{2} - \\left(v + μ\\right)^{2}\\right) e^{\\frac{v}{2} + μ}\\end{matrix}\\right]$"
      ],
      "text/plain": [
       "⎡         v            ⎤\n",
       "⎢         ─ + μ        ⎥\n",
       "⎢         2            ⎥\n",
       "⎢       -ℯ             ⎥\n",
       "⎢                      ⎥\n",
       "⎢          v           ⎥\n",
       "⎢          ─ + μ       ⎥\n",
       "⎢          2           ⎥\n",
       "⎢      -v⋅ℯ            ⎥\n",
       "⎢                      ⎥\n",
       "⎢                 v    ⎥\n",
       "⎢                 ─ + μ⎥\n",
       "⎢⎛ 2          2⎞  2    ⎥\n",
       "⎣⎝μ  - (v + μ) ⎠⋅ℯ     ⎦"
      ]
     },
     "execution_count": 61,
     "metadata": {},
     "output_type": "execute_result"
    }
   ],
   "source": [
    "sp.Matrix([DRM(normalMGF,0),DRM(normalMGF,1),DRM(normalMGF,2)])"
   ]
  },
  {
   "cell_type": "markdown",
   "id": "c6085a63",
   "metadata": {},
   "source": [
    "And the function to approximate the Laplace transform of the lognormal distribution $\\mathcal{L}_{v_0}(u)$ is "
   ]
  },
  {
   "cell_type": "code",
   "execution_count": 62,
   "id": "c364d793",
   "metadata": {},
   "outputs": [],
   "source": [
    "modeling_period=20.0\n",
    "u_step=0.02\n",
    "u_r=np.arange(0.0, modeling_period+u_step, u_step,dtype=np.float64)\n",
    "n_steps=len(u_r)-1\n",
    "v0=0.75"
   ]
  },
  {
   "cell_type": "code",
   "execution_count": 63,
   "id": "bb8316dc",
   "metadata": {},
   "outputs": [],
   "source": [
    "def LaplTrLNODE3(u,v0):# u must start from 0\n",
    "    def ode(y,t):\n",
    "        _,mu,m2=y\n",
    "        v=m2-mu**2\n",
    "        dL=-np.exp(mu+0.5*v)\n",
    "        dmu=v*dL\n",
    "        dm2=(v+2*mu)*dmu #-(v^2+2vmu+mu^2-mu^2)M\n",
    "        return [dL,dmu,dm2]\n",
    "    L,_,_=odeint(ode,[0.0,0.0,v0],u).T\n",
    "    S=np.exp(L)\n",
    "    return S"
   ]
  },
  {
   "cell_type": "code",
   "execution_count": 64,
   "id": "84d7f497",
   "metadata": {},
   "outputs": [
    {
     "data": {
      "text/plain": [
       "True"
      ]
     },
     "execution_count": 64,
     "metadata": {},
     "output_type": "execute_result"
    }
   ],
   "source": [
    "np.allclose(LaplTrLNODE2(u_r,v0),LaplTrLNODE3(u_r,v0))"
   ]
  },
  {
   "cell_type": "markdown",
   "id": "613d8133",
   "metadata": {},
   "source": [
    "In common, we get parameters from moments and moments derivatives from parameters.\n",
    "\n",
    "Now we are ready for [skew normal distribution](https://en.wikipedia.org/wiki/Skew_normal_distribution). First of all we need a paramerization convinient for our purposes. Instead of using location $\\xi$ , scale $\\omega$ ,and \n",
    "$\\alpha$ shape parameter we  use parametrization $\\xi,w,d$:\n",
    "$$ w=\\omega^2,\\,\\, d=\\sqrt{\\frac{2}{\\pi}}\\omega\\delta,$$\n",
    "where\n",
    "$$\\delta^2=\\frac{\\alpha^2}{1+\\alpha^2}$$\n",
    "Given $w,d$ we can get $\\omega,\\delta,\\alpha$:\n",
    "$$\\omega=\\sqrt{w},\\,\\, \\delta=\\sqrt{\\frac{\\pi}{2w}}d,\\,\\,\\alpha=\\frac{\\delta}{\\sqrt{1-\\delta^2}}$$\n",
    "\n",
    "The MGF of the skew normal distributed variable Y is:\n",
    "$$\\mathcal{M}_Y(z)=\\exp(z\\xi+ \\frac{z^2w}{2})(1+\\operatorname{erf}(\\frac{\\sqrt{\\pi}}{2}zd))$$"
   ]
  },
  {
   "cell_type": "code",
   "execution_count": 65,
   "id": "ba25e095",
   "metadata": {},
   "outputs": [
    {
     "data": {
      "image/png": "[encoded data removed]",
      "text/latex": [
       "$\\displaystyle \\left(\\operatorname{erf}{\\left(\\frac{\\sqrt{\\pi} d z}{2} \\right)} + 1\\right) e^{\\frac{w z^{2}}{2} + z ξ}$"
      ],
      "text/plain": [
       "                      2      \n",
       "                   w⋅z       \n",
       "                   ──── + z⋅ξ\n",
       "⎛   ⎛√π⋅d⋅z⎞    ⎞   2        \n",
       "⎜erf⎜──────⎟ + 1⎟⋅ℯ          \n",
       "⎝   ⎝  2   ⎠    ⎠            "
      ]
     },
     "execution_count": 65,
     "metadata": {},
     "output_type": "execute_result"
    }
   ],
   "source": [
    "snormalMGF=sp.exp(z*ξ + z**2*w/2)*(1+sp.erf(sp.sqrt(sp.pi)*z*d/2))\n",
    "snormalMGF"
   ]
  },
  {
   "cell_type": "markdown",
   "id": "236f43c3",
   "metadata": {},
   "source": [
    "For skew normal distribution $m_1$, $c_2$ and $c_3$ is"
   ]
  },
  {
   "cell_type": "code",
   "execution_count": 66,
   "id": "9bf11a19",
   "metadata": {},
   "outputs": [
    {
     "data": {
      "image/png": "[encoded data removed]",
      "text/latex": [
       "$\\displaystyle \\left[ d + ξ, \\  - d^{2} + w, \\  \\frac{d^{3} \\cdot \\left(4 - \\pi\\right)}{2}\\right]$"
      ],
      "text/plain": [
       "⎡                  3        ⎤\n",
       "⎢          2      d ⋅(4 - π)⎥\n",
       "⎢d + ξ, - d  + w, ──────────⎥\n",
       "⎣                     2     ⎦"
      ]
     },
     "execution_count": 66,
     "metadata": {},
     "output_type": "execute_result"
    }
   ],
   "source": [
    "snormal_rm=RMgenerator(snormalMGF)\n",
    "[snormal_rm(1),CM(snormal_rm,2),CM(snormal_rm,3)]"
   ]
  },
  {
   "cell_type": "markdown",
   "id": "b7761dd8",
   "metadata": {},
   "source": [
    "Given  $m_1$, $c_2$ and $c_3$ we can find parameters\n",
    "$$d=\\sqrt[3]{\\frac{2c_3}{4-\\pi}}$$\n",
    "$$w=c_2+d^2$$\n",
    "$$\\xi=m_1-d$$"
   ]
  },
  {
   "cell_type": "markdown",
   "id": "f6227a42",
   "metadata": {},
   "source": [
    "#### First,  $dm_1/du$ is"
   ]
  },
  {
   "cell_type": "code",
   "execution_count": 67,
   "id": "f2c8949f",
   "metadata": {},
   "outputs": [
    {
     "data": {
      "image/png": "[encoded data removed]",
      "text/latex": [
       "$\\displaystyle \\left(- d + \\left(d - w\\right) \\left(\\operatorname{erf}{\\left(\\frac{\\sqrt{\\pi} d}{2} \\right)} + 1\\right) e^{\\frac{\\pi d^{2}}{4}}\\right) e^{- \\frac{\\pi d^{2}}{4} + \\frac{w}{2} + ξ}$"
      ],
      "text/plain": [
       "⎛                                 2⎞       2        \n",
       "⎜                              π⋅d ⎟    π⋅d    w    \n",
       "⎜                              ────⎟  - ──── + ─ + ξ\n",
       "⎜             ⎛   ⎛√π⋅d⎞    ⎞   4  ⎟     4     2    \n",
       "⎜-d + (d - w)⋅⎜erf⎜────⎟ + 1⎟⋅ℯ    ⎟⋅ℯ              \n",
       "⎝             ⎝   ⎝ 2  ⎠    ⎠      ⎠                "
      ]
     },
     "metadata": {},
     "output_type": "display_data"
    },
    {
     "name": "stdout",
     "output_type": "stream",
     "text": [
      "latex: \\left(- d + \\left(d - w\\right) \\left(\\operatorname{erf}{\\left(\\frac{\\sqrt{\\pi} d}{2} \\right)} + 1\\right) e^{\\frac{\\pi d^{2}}{4}}\\right) e^{- \\frac{\\pi d^{2}}{4} + \\frac{w}{2} + ξ}\n"
     ]
    }
   ],
   "source": [
    "dm1=DRM(snormalMGF,1)\n",
    "display(dm1)\n",
    "print('latex:',sp.latex(dm1))\n",
    "#print('python:',dm1)\n"
   ]
  },
  {
   "cell_type": "markdown",
   "id": "9f96d6d2",
   "metadata": {},
   "source": [
    "After some rewriting\n",
    "$$\\frac{dm_1}{du}=e^{\\xi +\\frac{w}{2}} \\left((1+\\operatorname{erf}\\left(\\frac{\\sqrt{\\pi } d}{2}\\right)) (d-w)-d\n",
    "   e^{-\\frac{\\pi  d^2}{4}}\\right)$$\n",
    "   \n",
    "#### Second,$dc_2/du$ is   "
   ]
  },
  {
   "cell_type": "code",
   "execution_count": 68,
   "id": "2a5f4a5b",
   "metadata": {},
   "outputs": [
    {
     "data": {
      "image/png": "[encoded data removed]",
      "text/latex": [
       "$\\displaystyle \\left(\\frac{\\pi d^{3}}{2} - 2 d^{2} e^{\\frac{\\pi d^{2}}{4}} \\operatorname{erf}{\\left(\\frac{\\sqrt{\\pi} d}{2} \\right)} - 2 d^{2} e^{\\frac{\\pi d^{2}}{4}} + 2 d^{2} + 2 d w e^{\\frac{\\pi d^{2}}{4}} \\operatorname{erf}{\\left(\\frac{\\sqrt{\\pi} d}{2} \\right)} + 2 d w e^{\\frac{\\pi d^{2}}{4}} - 2 d w - w^{2} e^{\\frac{\\pi d^{2}}{4}} \\operatorname{erf}{\\left(\\frac{\\sqrt{\\pi} d}{2} \\right)} - w^{2} e^{\\frac{\\pi d^{2}}{4}}\\right) e^{- \\frac{\\pi d^{2}}{4} + \\frac{w}{2} + ξ}$"
      ],
      "text/plain": [
       "⎛                2                      2                    2                \n",
       "⎜             π⋅d                    π⋅d                  π⋅d                 \n",
       "⎜   3         ────                   ────                 ────                \n",
       "⎜π⋅d       2   4      ⎛√π⋅d⎞      2   4        2           4      ⎛√π⋅d⎞      \n",
       "⎜──── - 2⋅d ⋅ℯ    ⋅erf⎜────⎟ - 2⋅d ⋅ℯ     + 2⋅d  + 2⋅d⋅w⋅ℯ    ⋅erf⎜────⎟ + 2⋅d\n",
       "⎝ 2                   ⎝ 2  ⎠                                      ⎝ 2  ⎠      \n",
       "\n",
       "       2                  2                    2⎞       2        \n",
       "    π⋅d                π⋅d                  π⋅d ⎟    π⋅d    w    \n",
       "    ────               ────                 ────⎟  - ──── + ─ + ξ\n",
       "     4              2   4      ⎛√π⋅d⎞    2   4  ⎟     4     2    \n",
       "⋅w⋅ℯ     - 2⋅d⋅w - w ⋅ℯ    ⋅erf⎜────⎟ - w ⋅ℯ    ⎟⋅ℯ              \n",
       "                               ⎝ 2  ⎠           ⎠                "
      ]
     },
     "metadata": {},
     "output_type": "display_data"
    }
   ],
   "source": [
    "dc2=DCM(snormalMGF,2)\n",
    "display(dc2)\n",
    "#print('latex:',sp.latex(dc2))\n",
    "#print('python:',dc2)"
   ]
  },
  {
   "cell_type": "markdown",
   "id": "5021e287",
   "metadata": {},
   "source": [
    "It can be expressed in more simple form (thanks Mathematica):\n",
    "\n",
    "$$\\frac{dc_2}{du}=\\frac{1}{2} e^{\\xi +\\frac{w}{2}}\\left( d e^{-\\frac{\\pi  d^2}{4}} \\left(\\pi  d^2+4 d-4 w\\right)-2\n",
    "   \\operatorname{erfc}\\left(-\\frac{\\sqrt{\\pi } d}{2}\\right) \\left(2 d^2-2 d w+w^2\\right)\\right)$$\n",
    "where $\\operatorname{erfc}(-x)=1+\\operatorname{erf}(x)$"
   ]
  },
  {
   "cell_type": "markdown",
   "id": "66e42af5",
   "metadata": {},
   "source": [
    "#### And finally, $dc_3/du$"
   ]
  },
  {
   "cell_type": "code",
   "execution_count": 69,
   "id": "cf390f72",
   "metadata": {},
   "outputs": [
    {
     "data": {
      "image/png": "[encoded data removed]",
      "text/latex": [
       "$\\displaystyle \\frac{\\left(- \\pi^{2} d^{5} - 6 \\pi d^{4} + 6 \\pi d^{3} w - 2 \\pi d^{3} e^{\\frac{\\pi d^{2}}{4}} \\operatorname{erf}{\\left(\\frac{\\sqrt{\\pi} d}{2} \\right)} + 24 d^{3} e^{\\frac{\\pi d^{2}}{4}} \\operatorname{erf}{\\left(\\frac{\\sqrt{\\pi} d}{2} \\right)} - 2 \\pi d^{3} e^{\\frac{\\pi d^{2}}{4}} + 24 d^{3} e^{\\frac{\\pi d^{2}}{4}} - 24 d^{3} + 2 \\pi d^{3} - 24 d^{2} w e^{\\frac{\\pi d^{2}}{4}} \\operatorname{erf}{\\left(\\frac{\\sqrt{\\pi} d}{2} \\right)} - 24 d^{2} w e^{\\frac{\\pi d^{2}}{4}} + 24 d^{2} w + 12 d w^{2} e^{\\frac{\\pi d^{2}}{4}} \\operatorname{erf}{\\left(\\frac{\\sqrt{\\pi} d}{2} \\right)} + 12 d w^{2} e^{\\frac{\\pi d^{2}}{4}} - 12 d w^{2} - 4 w^{3} e^{\\frac{\\pi d^{2}}{4}} \\operatorname{erf}{\\left(\\frac{\\sqrt{\\pi} d}{2} \\right)} - 4 w^{3} e^{\\frac{\\pi d^{2}}{4}}\\right) e^{- \\frac{\\pi d^{2}}{4} + \\frac{w}{2} + ξ}}{4}$"
      ],
      "text/plain": [
       "⎛                                         2                       2           \n",
       "⎜                                      π⋅d                     π⋅d            \n",
       "⎜                                      ────                    ────           \n",
       "⎜   2  5        4        3          3   4      ⎛√π⋅d⎞       3   4      ⎛√π⋅d⎞ \n",
       "⎜- π ⋅d  - 6⋅π⋅d  + 6⋅π⋅d ⋅w - 2⋅π⋅d ⋅ℯ    ⋅erf⎜────⎟ + 24⋅d ⋅ℯ    ⋅erf⎜────⎟ \n",
       "⎝                                              ⎝ 2  ⎠                  ⎝ 2  ⎠ \n",
       "──────────────────────────────────────────────────────────────────────────────\n",
       "                                                                              \n",
       "\n",
       "             2             2                                2                 \n",
       "          π⋅d           π⋅d                              π⋅d                  \n",
       "          ────          ────                             ────                 \n",
       "       3   4         3   4         3        3       2     4      ⎛√π⋅d⎞       \n",
       "- 2⋅π⋅d ⋅ℯ     + 24⋅d ⋅ℯ     - 24⋅d  + 2⋅π⋅d  - 24⋅d ⋅w⋅ℯ    ⋅erf⎜────⎟ - 24⋅d\n",
       "                                                                 ⎝ 2  ⎠       \n",
       "──────────────────────────────────────────────────────────────────────────────\n",
       "                                                             4                \n",
       "\n",
       "        2                         2                         2                 \n",
       "     π⋅d                       π⋅d                       π⋅d                  \n",
       "     ────                      ────                      ────                 \n",
       "2     4         2           2   4      ⎛√π⋅d⎞         2   4           2      3\n",
       " ⋅w⋅ℯ     + 24⋅d ⋅w + 12⋅d⋅w ⋅ℯ    ⋅erf⎜────⎟ + 12⋅d⋅w ⋅ℯ     - 12⋅d⋅w  - 4⋅w \n",
       "                                       ⎝ 2  ⎠                                 \n",
       "──────────────────────────────────────────────────────────────────────────────\n",
       "                                                                              \n",
       "\n",
       "     2                      2⎞       2        \n",
       "  π⋅d                    π⋅d ⎟    π⋅d    w    \n",
       "  ────                   ────⎟  - ──── + ─ + ξ\n",
       "   4      ⎛√π⋅d⎞      3   4  ⎟     4     2    \n",
       "⋅ℯ    ⋅erf⎜────⎟ - 4⋅w ⋅ℯ    ⎟⋅ℯ              \n",
       "          ⎝ 2  ⎠             ⎠                \n",
       "──────────────────────────────────────────────\n",
       "                                              "
      ]
     },
     "metadata": {},
     "output_type": "display_data"
    }
   ],
   "source": [
    "dc3=DCM(snormalMGF,3)\n",
    "display(dc3)"
   ]
  },
  {
   "cell_type": "markdown",
   "id": "ac03c1ae",
   "metadata": {},
   "source": [
    "Once again Mathematica is used to simplify\n",
    "$$\\frac{dc_2}{du}=-\\frac{1}{4}e^{\\xi +\\frac{w}{2}} \\left(2 \\text{erfc}\\left(-\\frac{\\sqrt{\\pi } d}{2}\\right)\n",
    "   \\left((\\pi -12) d^3+12 d^2 w-6 d w^2+2 w^3\\right)+d e^{-\\frac{\\pi  d^2}{4}}\\left(\\pi ^2 d^4+6 \\pi  d^3-2 d^2 (3 \\pi \n",
    "   w+\\pi -12)-24 d w+12 w^2\\right)\\right)$$\n",
    "   \n",
    "Now we have all the components. Function to approximate the Laplace transform of lognormal variable is"
   ]
  },
  {
   "cell_type": "code",
   "execution_count": 70,
   "id": "f82fb188",
   "metadata": {},
   "outputs": [],
   "source": [
    "def LaplTrLNODESkewNormal(u,v0):# u must start from 0\n",
    "    const1=1.0/(2.0-np.pi/2.0)\n",
    "    def ode(y,t):\n",
    "        \n",
    "        _,N,V,C=y\n",
    "        \n",
    "        d=np.cbrt(const1*C)\n",
    "        dsq=d**2\n",
    "        \n",
    "        w=V+dsq\n",
    "        wsq=w*w\n",
    "        \n",
    "        ξ=N-d\n",
    "        \n",
    "        M=np.exp(0.5*w + ξ)\n",
    "        E=d*np.exp(-0.25*dsq*np.pi)\n",
    "        A=1.0+scsp.erf(0.5*d*np.sqrt(np.pi)) #scsp.erfc(-0.5*d*np.sqrt(np.pi))\n",
    "        \n",
    "        dL=-M*A\n",
    " \n",
    "        dN=M*((d-w)*A-E)\n",
    "        \n",
    "        dV=0.5*M*(E*(4*d+dsq*np.pi-4*w)-2*(2*dsq-2*d*w+wsq)*A)\n",
    "        \n",
    "        S1=dsq*(12*w  + (np.pi - 12)*d) + (2*w-6*d)*wsq\n",
    "        S2=dsq*np.pi*(6*d + dsq*np.pi) - 24*d*w + 12*wsq - 2*dsq*(np.pi + 3*np.pi*w - 12)\n",
    "        dC=-0.25*M*(2*A*S1+E*S2)\n",
    "        return [dL,dN,dV,dC]\n",
    "    L,_,_,_=odeint(ode,[0.0,0.0,v0,0.0],u).T\n",
    "    S=np.exp(L)\n",
    "    return S"
   ]
  },
  {
   "cell_type": "markdown",
   "id": "2a410dbf",
   "metadata": {},
   "source": [
    "Let's look at the results"
   ]
  },
  {
   "cell_type": "code",
   "execution_count": 72,
   "id": "acff3765",
   "metadata": {},
   "outputs": [
    {
     "data": {
      "image/png": "[encoded data removed]",
      "text/plain": [
       "<Figure size 768x576 with 1 Axes>"
      ]
     },
     "metadata": {},
     "output_type": "display_data"
    },
    {
     "data": {
      "image/png": "[encoded data removed]",
      "text/plain": [
       "<Figure size 768x576 with 1 Axes>"
      ]
     },
     "metadata": {},
     "output_type": "display_data"
    }
   ],
   "source": [
    "direct=LaplTrLNFastD(u_r,v0)\n",
    "skew_normal=LaplTrLNODESkewNormal(u_r,v0)\n",
    "fig, ax = plt.subplots(dpi=120)\n",
    "plt.title(f'different transform methods graphs v0={v0}')\n",
    "\n",
    "plt.plot(u_r,LaplTrLNODE2(u_r,v0),color='C0',linewidth=1, label=f'Normal based ODE Approximate Laplace transform ')\n",
    "plt.plot(u_r,direct, linewidth=3, color='C1',label=f'Direct Laplace transform')\n",
    "plt.plot(u_r,skew_normal,linewidth=1, color='C2',label=f'Skew Normal based ODE Approximate Laplace transform')\n",
    "\n",
    "plt.xlabel('u')\n",
    "plt.yscale('log')\n",
    "plt.legend(loc='upper right')\n",
    "fig.tight_layout()\n",
    "plt.show()\n",
    "\n",
    "fig, ax = plt.subplots(dpi=120)\n",
    "plt.title(f'relative value to exact solution v0={v0}')\n",
    "plt.plot(u_r,LaplTrLNODE2(u_r,v0)/direct,linewidth=1,color='C0', label=f'Normal based ODE Approximate Laplace transform')\n",
    "plt.plot(u_r,skew_normal/direct,linewidth=1,color='C2', label=f'Skew Normal based ODE Approximate Laplace transform')\n",
    "\n",
    "plt.xlabel('u')\n",
    "plt.legend(loc='lower left')\n",
    "fig.tight_layout()\n",
    "plt.show()\n"
   ]
  },
  {
   "cell_type": "markdown",
   "id": "743fb195",
   "metadata": {},
   "source": [
    "Indeed the approximation becomes better."
   ]
  },
  {
   "cell_type": "code",
   "execution_count": null,
   "id": "d3eb2e5c",
   "metadata": {},
   "outputs": [],
   "source": []
  }
 ],
 "metadata": {
  "kernelspec": {
   "display_name": "Python 3 (ipykernel)",
   "language": "python",
   "name": "python3"
  },
  "language_info": {
   "codemirror_mode": {
    "name": "ipython",
    "version": 3
   },
   "file_extension": ".py",
   "mimetype": "text/x-python",
   "name": "python",
   "nbconvert_exporter": "python",
   "pygments_lexer": "ipython3",
   "version": "3.8.18"
  }
 },
 "nbformat": 4,
 "nbformat_minor": 5
}
